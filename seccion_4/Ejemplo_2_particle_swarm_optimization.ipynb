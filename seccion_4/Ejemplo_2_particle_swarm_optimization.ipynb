{
 "cells": [
  {
   "cell_type": "markdown",
   "id": "f75cf5a1",
   "metadata": {},
   "source": [
    "# **Ejercicio 2 (Maximización de Volumen con PSO)**\n",
    "\n",
    "**Objetivo:** Determinar las dimensiones de una caja con base cuadrada que maximicen su volumen, utilizando una cantidad fija de 10 m² de material y aplicando el algoritmo de Optimización por Enjambre de Partículas (PSO)."
   ]
  },
  {
   "cell_type": "markdown",
   "id": "5170dd08",
   "metadata": {},
   "source": [
    "## **Configuración Inicial**\n",
    "\n",
    "### **Instalar y Cargar Librerías**\n",
    "Se importan las librerías necesarias. DEAP es el framework principal para implementar el algoritmo PSO."
   ]
  },
  {
   "cell_type": "code",
   "execution_count": 14,
   "id": "7c7cab6f",
   "metadata": {},
   "outputs": [],
   "source": [
    "# Si es necesario, instalar el paquete DEAP\n",
    "# !pip install deap"
   ]
  },
  {
   "cell_type": "code",
   "execution_count": 15,
   "id": "9a02bed9",
   "metadata": {
    "lines_to_next_cell": 1
   },
   "outputs": [],
   "source": [
    "# Importar paquetes\n",
    "import matplotlib.pyplot as plt\n",
    "from deap import base, creator, tools\n",
    "import pandas as pd\n",
    "import operator\n",
    "import random\n",
    "import numpy\n",
    "import math"
   ]
  },
  {
   "cell_type": "markdown",
   "id": "c224aaf6",
   "metadata": {},
   "source": [
    "## **Planteamiento del Problema**\n",
    "\n",
    "Se desea construir una caja con base cuadrada y sin tapa superior. Se dispone de 10 m² de material para su construcción.\n",
    "\n",
    "* **Variables:**\n",
    "    * `x`: Lado de la base cuadrada.\n",
    "    * `h`: Altura de la caja.\n",
    "\n",
    "* **Función Objetivo (Volumen):**\n",
    "\n",
    "    $$ V = \\text{Área de la base} \\times \\text{Altura} = x^2 \\cdot h $$\n",
    "\n",
    "* **Restricción (Área de Superficie):**\n",
    "El material total es la suma del área de la base y las cuatro caras laterales.\n",
    "\n",
    "    $$ \\text{Área Total} = x^2 + 4xh = 10 $$\n",
    "\n",
    "    De esta restricción, podemos despejar la altura `h` en función de `x`:\n",
    "\n",
    "    $$ h = \\frac{10 - x^2}{4x} $$\n",
    "\n",
    "    Sustituyendo `h` en la función de volumen, obtenemos la función objetivo dependiente de una sola variable, `x`:\n",
    "\n",
    "    $$ \\text{Maximizar } V(x) = x^2 \\left( \\frac{10 - x^2}{4x} \\right) = \\frac{10x - x^3}{4} $$\n",
    "\n",
    "* **Restricciones de Dominio:**\n",
    "    * `x > 0` (El lado debe ser positivo).\n",
    "    * La restricción `h > 0` (la altura debe ser positiva) nos lleva a la siguiente lógica para encontrar el límite superior de `x`:\n",
    "\n",
    "        1.  **Fórmula del Área:** El área total del material es la suma de la base y los cuatro lados.\n",
    "            $$ x^2 + 4xh = 10 $$\n",
    "\n",
    "        2.  **Despejar la altura (h):** Expresamos la altura en función de `x`.\n",
    "            $$ h = \\frac{10 - x^2}{4x} $$\n",
    "\n",
    "        3.  **Aplicar la Restricción:** Como la altura debe ser mayor que cero (`h > 0`), y ya que `x` (una longitud) también debe ser positivo, el numerador de la fracción tiene que ser positivo.\n",
    "            $$ 10 - x^2 > 0 $$\n",
    "\n",
    "        4.  **Resolver la Desigualdad:**\n",
    "            $$ 10 > x^2 $$\n",
    "            $$ \\sqrt{10} > x $$\n",
    "\n",
    "        5.  **Conclusión:**\n",
    "            $$ x < \\sqrt{10} \\approx 3.16 $$\n",
    "\n",
    "    Por lo tanto, el lado `x` de la base debe ser menor que aproximadamente 3.16 metros para que la caja tenga una altura positiva."
   ]
  },
  {
   "cell_type": "markdown",
   "id": "19498851",
   "metadata": {},
   "source": [
    "### **2. Funciones del Problema**\n",
    "* **`objective_function`**: Calcula el volumen de la caja, que es el valor a maximizar.\n",
    "* **`feasible`**: Verifica si una partícula (un valor de `x`) cumple con las restricciones de dominio."
   ]
  },
  {
   "cell_type": "code",
   "execution_count": 16,
   "id": "857e85d9",
   "metadata": {
    "lines_to_next_cell": 1
   },
   "outputs": [],
   "source": [
    "# Función Objetivo\n",
    "# Maximizar el volumen V(x) = (10x - x³) / 4\n",
    "def objective_function(individual):\n",
    "    x = individual[0]\n",
    "    volume = (10 * x - (x**3)) / 4\n",
    "    return volume,"
   ]
  },
  {
   "cell_type": "code",
   "execution_count": 17,
   "id": "98ea3974",
   "metadata": {
    "lines_to_next_cell": 1
   },
   "outputs": [],
   "source": [
    "# Restricción del Problema\n",
    "# Verifica si la partícula es una solución factible (0 < x < sqrt(10)).\n",
    "def feasible(individual):\n",
    "    x = individual[0]\n",
    "    if x < 0:\n",
    "        return False\n",
    "    # La restricción h > 0 implica x < sqrt(10)\n",
    "    if x > math.sqrt(10):\n",
    "      return False\n",
    "    return True"
   ]
  },
  {
   "cell_type": "markdown",
   "id": "b33e7091",
   "metadata": {},
   "source": [
    "## **Configuración del Algoritmo PSO**\n",
    "\n",
    "### **1. Creación de Tipos con `creator`**\n",
    "Se definen las estructuras para el **Fitness** y la **Partícula**.\n",
    "\n",
    "* **`FitnessMax`**: Define un objetivo de maximización con `weights=(1.0,)`.\n",
    "* **`Particle`**: Define la estructura de una partícula con sus atributos específicos para PSO: `speed` (velocidad), `smin`/`smax` (límites de velocidad) y `best` (mejor posición personal)."
   ]
  },
  {
   "cell_type": "code",
   "execution_count": 18,
   "id": "0025a8e7",
   "metadata": {
    "lines_to_next_cell": 1
   },
   "outputs": [
    {
     "name": "stderr",
     "output_type": "stream",
     "text": [
      "/home/santiago/anaconda3/envs/MADSI/lib/python3.11/site-packages/deap/creator.py:185: RuntimeWarning: A class named 'FitnessMax' has already been created and it will be overwritten. Consider deleting previous creation of that class or rename it.\n",
      "  warnings.warn(\"A class named '{0}' has already been created and it \"\n",
      "/home/santiago/anaconda3/envs/MADSI/lib/python3.11/site-packages/deap/creator.py:185: RuntimeWarning: A class named 'Particle' has already been created and it will be overwritten. Consider deleting previous creation of that class or rename it.\n",
      "  warnings.warn(\"A class named '{0}' has already been created and it \"\n"
     ]
    }
   ],
   "source": [
    "# Crear los tipos de Fitness y Partícula\n",
    "creator.create(\"FitnessMax\", base.Fitness, weights=(1.0,))\n",
    "creator.create(\"Particle\", list, fitness=creator.FitnessMax, speed=list, smin=None, smax=None, best=None)"
   ]
  },
  {
   "cell_type": "markdown",
   "id": "283d3cb7",
   "metadata": {},
   "source": [
    "### **2. Funciones para Generar y Actualizar Partículas**\n",
    "* **`generate`**: Inicializa una partícula con una posición y velocidad aleatorias.\n",
    "* **`updateParticle`**: Implementa la lógica de movimiento de PSO, actualizando la velocidad y posición de la partícula basándose en su mejor posición y la del enjambre."
   ]
  },
  {
   "cell_type": "code",
   "execution_count": 19,
   "id": "4e54d344",
   "metadata": {
    "lines_to_next_cell": 1
   },
   "outputs": [],
   "source": [
    "# Función para generar una partícula con posición y velocidad iniciales aleatorias.\n",
    "def generate(size, pmin, pmax, smin, smax):\n",
    "    part = creator.Particle(random.uniform(pmin, pmax) for _ in range(size))\n",
    "    part.speed = [random.uniform(smin, smax) for _ in range(size)]\n",
    "    part.smin = smin\n",
    "    part.smax = smax\n",
    "    return part"
   ]
  },
  {
   "cell_type": "code",
   "execution_count": 20,
   "id": "0698726a",
   "metadata": {
    "lines_to_next_cell": 1
   },
   "outputs": [],
   "source": [
    "# Función para actualizar la velocidad y posición de una partícula.\n",
    "def updateParticle(part, best, phi1, phi2):\n",
    "    # Componente cognitivo (hacia la mejor posición personal)\n",
    "    u1 = (random.uniform(0, phi1) for _ in range(len(part)))\n",
    "    v_u1 = map(operator.mul, u1, map(operator.sub, part.best, part))\n",
    "    # Componente social (hacia la mejor posición global)\n",
    "    u2 = (random.uniform(0, phi2) for _ in range(len(part)))\n",
    "    v_u2 = map(operator.mul, u2, map(operator.sub, best, part))\n",
    "    # Actualizar velocidad y aplicar límites\n",
    "    part.speed = list(map(operator.add, part.speed, map(operator.add, v_u1, v_u2)))\n",
    "    for i, speed in enumerate(part.speed):\n",
    "        if abs(speed) < part.smin:\n",
    "            part.speed[i] = math.copysign(part.smin, speed)\n",
    "        elif abs(speed) > part.smax:\n",
    "            part.speed[i] = math.copysign(part.smax, speed)\n",
    "    # Actualizar posición\n",
    "    part[:] = list(map(operator.add, part, part.speed))"
   ]
  },
  {
   "cell_type": "markdown",
   "id": "0667f7af",
   "metadata": {},
   "source": [
    "### **3. Creación de la `Toolbox`**\n",
    "Se registran las funciones y operadores en la `Toolbox` para su uso en el algoritmo."
   ]
  },
  {
   "cell_type": "code",
   "execution_count": 21,
   "id": "e27db19d",
   "metadata": {},
   "outputs": [],
   "source": [
    "# Crear la caja de herramientas (Toolbox)\n",
    "toolbox = base.Toolbox()\n",
    "\n",
    "# Registrar la función para generar partículas.\n",
    "# size=1 (solo la variable x), pmin/pmax (límites de posición), smin/smax (límites de velocidad).\n",
    "toolbox.register(\"particle\", generate, size=1, pmin=0, pmax=5, smin=-0.5, smax=0.5)\n",
    "\n",
    "# Registrar la función para generar la población.\n",
    "toolbox.register(\"population\", tools.initRepeat, list, toolbox.particle)\n",
    "\n",
    "# Registrar la función para actualizar las partículas.\n",
    "toolbox.register(\"update\", updateParticle, phi1=2.0, phi2=2.0)\n",
    "\n",
    "# Registrar la función de evaluación con penalización para soluciones no factibles.\n",
    "toolbox.register(\"evaluate\", objective_function)\n",
    "toolbox.decorate(\"evaluate\", tools.DeltaPenalty(feasible, -100000)) # Penalización alta si no es factible"
   ]
  },
  {
   "cell_type": "markdown",
   "id": "f78dd4d7",
   "metadata": {},
   "source": [
    "### **4. Definición de Parámetros y Estadísticas**\n",
    "Se configuran los parámetros del algoritmo y el registro de estadísticas."
   ]
  },
  {
   "cell_type": "code",
   "execution_count": 22,
   "id": "3424ddc6",
   "metadata": {},
   "outputs": [],
   "source": [
    "# Parámetros del algoritmo PSO\n",
    "initial_population = 100    # Número de partículas\n",
    "num_ite = 100               # Número de iteraciones\n",
    "best = None                 # Mejor partícula global"
   ]
  },
  {
   "cell_type": "code",
   "execution_count": 23,
   "id": "767e1662",
   "metadata": {},
   "outputs": [],
   "source": [
    "# Creación de la población inicial\n",
    "pop = toolbox.population(n=initial_population)"
   ]
  },
  {
   "cell_type": "code",
   "execution_count": 24,
   "id": "6ee30b0a",
   "metadata": {},
   "outputs": [],
   "source": [
    "# Configuración de las estadísticas a monitorear\n",
    "stats = tools.Statistics(lambda ind: ind.fitness.values)\n",
    "stats.register(\"avg\", numpy.mean)\n",
    "stats.register(\"std\", numpy.std)\n",
    "stats.register(\"min\", numpy.min)\n",
    "stats.register(\"max\", numpy.max)"
   ]
  },
  {
   "cell_type": "code",
   "execution_count": 25,
   "id": "6d95bbc6",
   "metadata": {},
   "outputs": [],
   "source": [
    "# Configuración del Logbook para guardar el historial\n",
    "logbook = tools.Logbook()\n",
    "logbook.header = [\"gen\", \"evals\"] + stats.fields"
   ]
  },
  {
   "cell_type": "markdown",
   "id": "f73c4352",
   "metadata": {},
   "source": [
    "## **Ejecución del Algoritmo PSO**\n",
    "Se ejecuta el bucle principal de optimización."
   ]
  },
  {
   "cell_type": "code",
   "execution_count": 26,
   "id": "25a188d2",
   "metadata": {},
   "outputs": [
    {
     "name": "stdout",
     "output_type": "stream",
     "text": [
      "gen\tevals\tavg     \tstd    \tmin    \tmax    \n",
      "0  \t100  \t-37998.6\t48539.7\t-100000\t3.04039\n",
      "1  \t100  \t-28998.2\t45377.3\t-100000\t3.04287\n",
      "2  \t100  \t-20997.9\t40731.9\t-100000\t3.04271\n",
      "3  \t100  \t-14997.7\t35708.1\t-100000\t3.0429 \n",
      "4  \t100  \t-6997.45\t25515.4\t-100000\t3.04289\n",
      "5  \t100  \t-5997.33\t23749.4\t-100000\t3.04288\n",
      "6  \t100  \t-3997.24\t19596.5\t-100000\t3.0429 \n",
      "7  \t100  \t-2997.23\t17059.2\t-100000\t3.0429 \n",
      "8  \t100  \t-2997.2 \t17059.2\t-100000\t3.04278\n",
      "9  \t100  \t-1997.18\t14000.4\t-100000\t3.0429 \n",
      "10 \t100  \t-997.149\t9950.16\t-100000\t3.0429 \n",
      "11 \t100  \t-997.103\t9950.17\t-100000\t3.0429 \n",
      "12 \t100  \t-997.124\t9950.16\t-100000\t3.0429 \n",
      "13 \t100  \t-997.139\t9950.16\t-100000\t3.0429 \n",
      "14 \t100  \t-997.113\t9950.16\t-100000\t3.0429 \n",
      "15 \t100  \t-997.113\t9950.16\t-100000\t3.0429 \n",
      "16 \t100  \t2.88281 \t0.225477\t1.39973\t3.0429 \n",
      "17 \t100  \t2.91577 \t0.131587\t2.50243\t3.0429 \n",
      "18 \t100  \t2.90797 \t0.162706\t2.11789\t3.0429 \n",
      "19 \t100  \t2.91109 \t0.136141\t2.4839 \t3.0429 \n",
      "20 \t100  \t2.92688 \t0.134044\t2.3188 \t3.04276\n",
      "21 \t100  \t2.9047  \t0.169439\t1.78237\t3.0429 \n",
      "22 \t100  \t2.94177 \t0.123834\t2.50558\t3.04289\n",
      "23 \t100  \t2.91956 \t0.125544\t2.59859\t3.0429 \n",
      "24 \t100  \t2.92165 \t0.166671\t1.83086\t3.04286\n",
      "25 \t100  \t2.92456 \t0.134824\t2.35456\t3.0429 \n",
      "26 \t100  \t2.92738 \t0.130451\t2.47202\t3.0429 \n",
      "27 \t100  \t2.93381 \t0.130011\t2.57333\t3.0429 \n",
      "28 \t100  \t2.93351 \t0.119049\t2.4674 \t3.0429 \n",
      "29 \t100  \t2.93019 \t0.139186\t2.18068\t3.0429 \n",
      "30 \t100  \t2.93126 \t0.121339\t2.41266\t3.04275\n",
      "31 \t100  \t2.94262 \t0.111513\t2.5459 \t3.0429 \n",
      "32 \t100  \t2.94926 \t0.108067\t2.60563\t3.04282\n",
      "33 \t100  \t2.92603 \t0.131455\t2.39973\t3.0429 \n",
      "34 \t100  \t2.94927 \t0.111779\t2.64121\t3.04289\n",
      "35 \t100  \t2.92428 \t0.128498\t2.40945\t3.0429 \n",
      "36 \t100  \t2.93487 \t0.139612\t2.35353\t3.04289\n",
      "37 \t100  \t2.93661 \t0.115903\t2.54656\t3.0429 \n",
      "38 \t100  \t2.94304 \t0.112067\t2.64607\t3.04282\n",
      "39 \t100  \t2.95781 \t0.0902328\t2.67443\t3.04289\n",
      "40 \t100  \t2.92576 \t0.121945 \t2.44379\t3.04286\n",
      "41 \t100  \t2.94196 \t0.124791 \t2.32479\t3.04289\n",
      "42 \t100  \t2.94616 \t0.115266 \t2.59231\t3.0429 \n",
      "43 \t100  \t2.92252 \t0.142534 \t2.38035\t3.0429 \n",
      "44 \t100  \t2.93945 \t0.135533 \t2.137  \t3.04289\n",
      "45 \t100  \t2.92955 \t0.134579 \t2.36927\t3.0429 \n",
      "46 \t100  \t2.93804 \t0.116761 \t2.53395\t3.0429 \n",
      "47 \t100  \t2.93568 \t0.120779 \t2.47893\t3.0429 \n",
      "48 \t100  \t2.92731 \t0.138288 \t2.28889\t3.0429 \n",
      "49 \t100  \t2.9326  \t0.122965 \t2.5157 \t3.0429 \n",
      "50 \t100  \t2.95155 \t0.112206 \t2.34295\t3.04288\n",
      "51 \t100  \t2.92274 \t0.148269 \t1.99877\t3.04252\n",
      "52 \t100  \t2.93801 \t0.127268 \t2.44167\t3.04289\n",
      "53 \t100  \t2.94382 \t0.112021 \t2.44536\t3.0429 \n",
      "54 \t100  \t2.93132 \t0.134749 \t2.3486 \t3.0429 \n",
      "55 \t100  \t2.9381  \t0.125579 \t2.46757\t3.04276\n",
      "56 \t100  \t2.93637 \t0.107149 \t2.6453 \t3.0429 \n",
      "57 \t100  \t2.96562 \t0.0919697\t2.68722\t3.0428 \n",
      "58 \t100  \t2.93692 \t0.123312 \t2.33178\t3.0429 \n",
      "59 \t100  \t2.92845 \t0.139661 \t2.16038\t3.04289\n",
      "60 \t100  \t2.92208 \t0.138554 \t2.33335\t3.0429 \n",
      "61 \t100  \t2.94371 \t0.123072 \t2.37865\t3.0429 \n",
      "62 \t100  \t2.91962 \t0.146509 \t2.23858\t3.0429 \n",
      "63 \t100  \t2.93781 \t0.118689 \t2.54659\t3.04289\n",
      "64 \t100  \t2.93728 \t0.110615 \t2.59458\t3.0429 \n",
      "65 \t100  \t2.93645 \t0.131803 \t2.39681\t3.04284\n",
      "66 \t100  \t2.91708 \t0.1408   \t2.36736\t3.0429 \n",
      "67 \t100  \t2.95344 \t0.106329 \t2.61841\t3.04289\n",
      "68 \t100  \t2.92635 \t0.12851  \t2.32314\t3.0429 \n",
      "69 \t100  \t2.95153 \t0.124595 \t2.37555\t3.0429 \n",
      "70 \t100  \t2.91049 \t0.143669 \t2.44868\t3.04289\n",
      "71 \t100  \t2.9469  \t0.116307 \t2.50005\t3.0429 \n",
      "72 \t100  \t2.93615 \t0.127461 \t2.3329 \t3.0429 \n",
      "73 \t100  \t2.94483 \t0.127629 \t2.32552\t3.0429 \n",
      "74 \t100  \t2.92204 \t0.159608 \t2.07012\t3.04288\n",
      "75 \t100  \t2.9369  \t0.160364 \t2.0514 \t3.0429 \n",
      "76 \t100  \t2.93158 \t0.123344 \t2.42909\t3.04288\n",
      "77 \t100  \t2.96784 \t0.103244 \t2.35555\t3.0429 \n",
      "78 \t100  \t2.94308 \t0.103371 \t2.64755\t3.0429 \n",
      "79 \t100  \t2.94756 \t0.128001 \t2.27252\t3.0429 \n",
      "80 \t100  \t2.94391 \t0.114002 \t2.62482\t3.04289\n",
      "81 \t100  \t2.93701 \t0.118976 \t2.39151\t3.04289\n",
      "82 \t100  \t2.94086 \t0.137661 \t2.2908 \t3.04274\n",
      "83 \t100  \t2.9339  \t0.138901 \t2.46687\t3.0429 \n",
      "84 \t100  \t2.95118 \t0.113085 \t2.51853\t3.0429 \n",
      "85 \t100  \t2.94706 \t0.11103  \t2.64734\t3.04288\n",
      "86 \t100  \t2.92196 \t0.148401 \t2.06526\t3.04289\n",
      "87 \t100  \t2.93791 \t0.133883 \t2.39516\t3.04288\n",
      "88 \t100  \t2.91766 \t0.128015 \t2.44748\t3.0429 \n",
      "89 \t100  \t2.93214 \t0.140332 \t2.28307\t3.0429 \n",
      "90 \t100  \t2.9131  \t0.141049 \t2.29549\t3.04287\n",
      "91 \t100  \t2.94071 \t0.133504 \t2.14407\t3.0429 \n",
      "92 \t100  \t2.90591 \t0.13376  \t2.50274\t3.0429 \n",
      "93 \t100  \t2.94183 \t0.130195 \t2.29322\t3.0429 \n",
      "94 \t100  \t2.89536 \t0.150246 \t2.33878\t3.0429 \n",
      "95 \t100  \t2.92974 \t0.136435 \t2.37926\t3.0429 \n",
      "96 \t100  \t2.92644 \t0.114787 \t2.431  \t3.04287\n",
      "97 \t100  \t2.93972 \t0.118049 \t2.49084\t3.0429 \n",
      "98 \t100  \t2.91359 \t0.131545 \t2.51247\t3.0429 \n",
      "99 \t100  \t2.92923 \t0.148088 \t2.06834\t3.0429 \n"
     ]
    }
   ],
   "source": [
    "# Bucle principal de la optimización PSO\n",
    "for iteration in range(num_ite):\n",
    "    for part in pop:\n",
    "        # Evaluar fitness\n",
    "        part.fitness.values = toolbox.evaluate(part)\n",
    "        # Actualizar mejor posición personal (pbest)\n",
    "        if not part.best or part.best.fitness < part.fitness:\n",
    "            part.best = creator.Particle(part)\n",
    "            part.best.fitness.values = part.fitness.values\n",
    "        # Actualizar mejor posición global (gbest)\n",
    "        if not best or best.fitness < part.fitness:\n",
    "            best = creator.Particle(part)\n",
    "            best.fitness.values = part.fitness.values\n",
    "    # Actualizar velocidad y posición de todas las partículas\n",
    "    for part in pop:\n",
    "        toolbox.update(part, best)\n",
    "\n",
    "    # Guardar y mostrar las estadísticas de la iteración\n",
    "    logbook.record(gen=iteration, evals=len(pop), **stats.compile(pop))\n",
    "    print(logbook.stream)"
   ]
  },
  {
   "cell_type": "markdown",
   "id": "78d24b41",
   "metadata": {},
   "source": [
    "## **Resultados Finales**\n",
    "Se muestran las dimensiones y el volumen máximo de la caja encontrados por el algoritmo."
   ]
  },
  {
   "cell_type": "code",
   "execution_count": 27,
   "id": "62118249",
   "metadata": {},
   "outputs": [
    {
     "name": "stdout",
     "output_type": "stream",
     "text": [
      "Lado de la base (x): 1.8257 m\n",
      "Altura (h): 0.9129 m\n"
     ]
    }
   ],
   "source": [
    "# Imprimir la mejor solución encontrada\n",
    "x_optimo = best[0]\n",
    "h_optima = (10 - x_optimo**2) / (4 * x_optimo) if x_optimo != 0 else 0\n",
    "\n",
    "print(f'Lado de la base (x): {x_optimo:.4f} m')\n",
    "print(f'Altura (h): {h_optima:.4f} m')"
   ]
  },
  {
   "cell_type": "code",
   "execution_count": 28,
   "id": "61abd0f7",
   "metadata": {},
   "outputs": [
    {
     "name": "stdout",
     "output_type": "stream",
     "text": [
      "Volumen Máximo: 3.0429 m³\n",
      "Área de material utilizada: 10.0000 m²\n"
     ]
    }
   ],
   "source": [
    "# Evaluar la mejor solución\n",
    "print(f'Volumen Máximo: {objective_function(best)[0]:.4f} m³')\n",
    "print(f'Área de material utilizada: {x_optimo**2 + 4 * x_optimo * h_optima:.4f} m²')"
   ]
  },
  {
   "cell_type": "code",
   "execution_count": 29,
   "id": "3747a842",
   "metadata": {},
   "outputs": [
    {
     "name": "stdout",
     "output_type": "stream",
     "text": [
      "Cumple restricciones: True\n"
     ]
    }
   ],
   "source": [
    "# Verificar si la solución es factible\n",
    "print(f'Cumple restricciones: {feasible(best)}')"
   ]
  }
 ],
 "metadata": {
  "jupytext": {
   "cell_metadata_filter": "-all",
   "main_language": "python",
   "notebook_metadata_filter": "-all"
  },
  "kernelspec": {
   "display_name": "MADSI",
   "language": "python",
   "name": "python3"
  },
  "language_info": {
   "codemirror_mode": {
    "name": "ipython",
    "version": 3
   },
   "file_extension": ".py",
   "mimetype": "text/x-python",
   "name": "python",
   "nbconvert_exporter": "python",
   "pygments_lexer": "ipython3",
   "version": "3.11.11"
  }
 },
 "nbformat": 4,
 "nbformat_minor": 5
}
