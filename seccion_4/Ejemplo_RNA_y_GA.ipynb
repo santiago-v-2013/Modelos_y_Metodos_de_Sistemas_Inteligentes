{
 "cells": [
  {
   "cell_type": "markdown",
   "id": "6fa95493",
   "metadata": {},
   "source": [
    "# **Optimización de Hiperparámetros con DEAP y PyTorch (Dataset de Sklearn)**\n",
    "\n",
    "**Objetivo:** Utilizar un algoritmo evolutivo con la librería DEAP para encontrar los mejores hiperparámetros para una red neuronal construida con PyTorch. El objetivo de la red neuronal es clasificar si un tumor es benigno o maligno, utilizando el dataset \"Breast Cancer Wisconsin\" de Scikit-learn."
   ]
  },
  {
   "cell_type": "markdown",
   "id": "0a99537a",
   "metadata": {},
   "source": [
    "## **1. Configuración Inicial e Instalación de Librerías**\n",
    "\n",
    "Primero, instalamos y cargamos todas las librerías necesarias. Necesitaremos `pandas` para la manipulación de datos, `scikit-learn` para el dataset y preprocesamiento, `pytorch` para el modelo y `deap` para la optimización."
   ]
  },
  {
   "cell_type": "code",
   "execution_count": 1,
   "id": "93fdfb7c",
   "metadata": {},
   "outputs": [
    {
     "name": "stdout",
     "output_type": "stream",
     "text": [
      "Requirement already satisfied: deap in /home/santiago/anaconda3/envs/MADSI/lib/python3.11/site-packages (1.4.3)\n",
      "Requirement already satisfied: torch in /home/santiago/anaconda3/envs/MADSI/lib/python3.11/site-packages (2.6.0)\n",
      "Requirement already satisfied: pandas in /home/santiago/anaconda3/envs/MADSI/lib/python3.11/site-packages (2.2.3)\n",
      "Requirement already satisfied: scikit-learn in /home/santiago/anaconda3/envs/MADSI/lib/python3.11/site-packages (1.6.1)\n",
      "Requirement already satisfied: matplotlib in /home/santiago/anaconda3/envs/MADSI/lib/python3.11/site-packages (3.10.1)\n",
      "Requirement already satisfied: seaborn in /home/santiago/anaconda3/envs/MADSI/lib/python3.11/site-packages (0.13.2)\n",
      "Requirement already satisfied: numpy in /home/santiago/anaconda3/envs/MADSI/lib/python3.11/site-packages (from deap) (2.1.3)\n",
      "Requirement already satisfied: filelock in /home/santiago/anaconda3/envs/MADSI/lib/python3.11/site-packages (from torch) (3.18.0)\n",
      "Requirement already satisfied: typing-extensions>=4.10.0 in /home/santiago/anaconda3/envs/MADSI/lib/python3.11/site-packages (from torch) (4.12.2)\n",
      "Requirement already satisfied: networkx in /home/santiago/anaconda3/envs/MADSI/lib/python3.11/site-packages (from torch) (3.4.2)\n",
      "Requirement already satisfied: jinja2 in /home/santiago/anaconda3/envs/MADSI/lib/python3.11/site-packages (from torch) (3.1.6)\n",
      "Requirement already satisfied: fsspec in /home/santiago/anaconda3/envs/MADSI/lib/python3.11/site-packages (from torch) (2025.3.0)\n",
      "Requirement already satisfied: nvidia-cuda-nvrtc-cu12==12.4.127 in /home/santiago/anaconda3/envs/MADSI/lib/python3.11/site-packages (from torch) (12.4.127)\n",
      "Requirement already satisfied: nvidia-cuda-runtime-cu12==12.4.127 in /home/santiago/anaconda3/envs/MADSI/lib/python3.11/site-packages (from torch) (12.4.127)\n",
      "Requirement already satisfied: nvidia-cuda-cupti-cu12==12.4.127 in /home/santiago/anaconda3/envs/MADSI/lib/python3.11/site-packages (from torch) (12.4.127)\n",
      "Requirement already satisfied: nvidia-cudnn-cu12==9.1.0.70 in /home/santiago/anaconda3/envs/MADSI/lib/python3.11/site-packages (from torch) (9.1.0.70)\n",
      "Requirement already satisfied: nvidia-cublas-cu12==12.4.5.8 in /home/santiago/anaconda3/envs/MADSI/lib/python3.11/site-packages (from torch) (12.4.5.8)\n",
      "Requirement already satisfied: nvidia-cufft-cu12==11.2.1.3 in /home/santiago/anaconda3/envs/MADSI/lib/python3.11/site-packages (from torch) (11.2.1.3)\n",
      "Requirement already satisfied: nvidia-curand-cu12==10.3.5.147 in /home/santiago/anaconda3/envs/MADSI/lib/python3.11/site-packages (from torch) (10.3.5.147)\n",
      "Requirement already satisfied: nvidia-cusolver-cu12==11.6.1.9 in /home/santiago/anaconda3/envs/MADSI/lib/python3.11/site-packages (from torch) (11.6.1.9)\n",
      "Requirement already satisfied: nvidia-cusparse-cu12==12.3.1.170 in /home/santiago/anaconda3/envs/MADSI/lib/python3.11/site-packages (from torch) (12.3.1.170)\n",
      "Requirement already satisfied: nvidia-cusparselt-cu12==0.6.2 in /home/santiago/anaconda3/envs/MADSI/lib/python3.11/site-packages (from torch) (0.6.2)\n",
      "Requirement already satisfied: nvidia-nccl-cu12==2.21.5 in /home/santiago/anaconda3/envs/MADSI/lib/python3.11/site-packages (from torch) (2.21.5)\n",
      "Requirement already satisfied: nvidia-nvtx-cu12==12.4.127 in /home/santiago/anaconda3/envs/MADSI/lib/python3.11/site-packages (from torch) (12.4.127)\n",
      "Requirement already satisfied: nvidia-nvjitlink-cu12==12.4.127 in /home/santiago/anaconda3/envs/MADSI/lib/python3.11/site-packages (from torch) (12.4.127)\n",
      "Requirement already satisfied: triton==3.2.0 in /home/santiago/anaconda3/envs/MADSI/lib/python3.11/site-packages (from torch) (3.2.0)\n",
      "Requirement already satisfied: sympy==1.13.1 in /home/santiago/anaconda3/envs/MADSI/lib/python3.11/site-packages (from torch) (1.13.1)\n",
      "Requirement already satisfied: mpmath<1.4,>=1.1.0 in /home/santiago/anaconda3/envs/MADSI/lib/python3.11/site-packages (from sympy==1.13.1->torch) (1.3.0)\n",
      "Requirement already satisfied: python-dateutil>=2.8.2 in /home/santiago/anaconda3/envs/MADSI/lib/python3.11/site-packages (from pandas) (2.9.0.post0)\n",
      "Requirement already satisfied: pytz>=2020.1 in /home/santiago/anaconda3/envs/MADSI/lib/python3.11/site-packages (from pandas) (2025.2)\n",
      "Requirement already satisfied: tzdata>=2022.7 in /home/santiago/anaconda3/envs/MADSI/lib/python3.11/site-packages (from pandas) (2025.2)\n",
      "Requirement already satisfied: scipy>=1.6.0 in /home/santiago/anaconda3/envs/MADSI/lib/python3.11/site-packages (from scikit-learn) (1.15.2)\n",
      "Requirement already satisfied: joblib>=1.2.0 in /home/santiago/anaconda3/envs/MADSI/lib/python3.11/site-packages (from scikit-learn) (1.4.2)\n",
      "Requirement already satisfied: threadpoolctl>=3.1.0 in /home/santiago/anaconda3/envs/MADSI/lib/python3.11/site-packages (from scikit-learn) (3.6.0)\n",
      "Requirement already satisfied: contourpy>=1.0.1 in /home/santiago/anaconda3/envs/MADSI/lib/python3.11/site-packages (from matplotlib) (1.3.1)\n",
      "Requirement already satisfied: cycler>=0.10 in /home/santiago/anaconda3/envs/MADSI/lib/python3.11/site-packages (from matplotlib) (0.12.1)\n",
      "Requirement already satisfied: fonttools>=4.22.0 in /home/santiago/anaconda3/envs/MADSI/lib/python3.11/site-packages (from matplotlib) (4.56.0)\n",
      "Requirement already satisfied: kiwisolver>=1.3.1 in /home/santiago/anaconda3/envs/MADSI/lib/python3.11/site-packages (from matplotlib) (1.4.8)\n",
      "Requirement already satisfied: packaging>=20.0 in /home/santiago/anaconda3/envs/MADSI/lib/python3.11/site-packages (from matplotlib) (24.2)\n",
      "Requirement already satisfied: pillow>=8 in /home/santiago/anaconda3/envs/MADSI/lib/python3.11/site-packages (from matplotlib) (11.1.0)\n",
      "Requirement already satisfied: pyparsing>=2.3.1 in /home/santiago/anaconda3/envs/MADSI/lib/python3.11/site-packages (from matplotlib) (3.2.3)\n",
      "Requirement already satisfied: six>=1.5 in /home/santiago/anaconda3/envs/MADSI/lib/python3.11/site-packages (from python-dateutil>=2.8.2->pandas) (1.16.0)\n",
      "Requirement already satisfied: MarkupSafe>=2.0 in /home/santiago/anaconda3/envs/MADSI/lib/python3.11/site-packages (from jinja2->torch) (3.0.2)\n"
     ]
    }
   ],
   "source": [
    "# Instalación de librerías\n",
    "!pip install deap torch pandas scikit-learn matplotlib seaborn"
   ]
  },
  {
   "cell_type": "code",
   "execution_count": 2,
   "id": "11883165",
   "metadata": {},
   "outputs": [],
   "source": [
    "# Importación de librerías\n",
    "import random\n",
    "import numpy as np\n",
    "import pandas as pd\n",
    "import torch\n",
    "import torch.nn as nn\n",
    "import torch.optim as optim\n",
    "from torch.utils.data import DataLoader, TensorDataset\n",
    "\n",
    "from sklearn.model_selection import train_test_split\n",
    "from sklearn.preprocessing import StandardScaler\n",
    "from sklearn.metrics import accuracy_score\n",
    "from sklearn.datasets import load_breast_cancer # Importamos el dataset\n",
    "\n",
    "from deap import base, creator, tools, algorithms\n",
    "\n",
    "import seaborn as sns\n",
    "import matplotlib.pyplot as plt"
   ]
  },
  {
   "cell_type": "markdown",
   "id": "5e227641",
   "metadata": {},
   "source": [
    "## **2. Carga y Preprocesamiento del Dataset**\n",
    "\n",
    "### **2.1. Carga de Datos desde Scikit-learn**\n",
    "\n",
    "Cargamos el dataset `breast_cancer` directamente desde `sklearn.datasets`. Este dataset no tiene valores nulos, lo que simplifica la fase de limpieza."
   ]
  },
  {
   "cell_type": "code",
   "execution_count": 3,
   "id": "4adf4145",
   "metadata": {
    "lines_to_next_cell": 2
   },
   "outputs": [
    {
     "name": "stdout",
     "output_type": "stream",
     "text": [
      "Primeras filas de las características (X):\n"
     ]
    },
    {
     "data": {
      "application/vnd.microsoft.datawrangler.viewer.v0+json": {
       "columns": [
        {
         "name": "index",
         "rawType": "int64",
         "type": "integer"
        },
        {
         "name": "mean radius",
         "rawType": "float64",
         "type": "float"
        },
        {
         "name": "mean texture",
         "rawType": "float64",
         "type": "float"
        },
        {
         "name": "mean perimeter",
         "rawType": "float64",
         "type": "float"
        },
        {
         "name": "mean area",
         "rawType": "float64",
         "type": "float"
        },
        {
         "name": "mean smoothness",
         "rawType": "float64",
         "type": "float"
        },
        {
         "name": "mean compactness",
         "rawType": "float64",
         "type": "float"
        },
        {
         "name": "mean concavity",
         "rawType": "float64",
         "type": "float"
        },
        {
         "name": "mean concave points",
         "rawType": "float64",
         "type": "float"
        },
        {
         "name": "mean symmetry",
         "rawType": "float64",
         "type": "float"
        },
        {
         "name": "mean fractal dimension",
         "rawType": "float64",
         "type": "float"
        },
        {
         "name": "radius error",
         "rawType": "float64",
         "type": "float"
        },
        {
         "name": "texture error",
         "rawType": "float64",
         "type": "float"
        },
        {
         "name": "perimeter error",
         "rawType": "float64",
         "type": "float"
        },
        {
         "name": "area error",
         "rawType": "float64",
         "type": "float"
        },
        {
         "name": "smoothness error",
         "rawType": "float64",
         "type": "float"
        },
        {
         "name": "compactness error",
         "rawType": "float64",
         "type": "float"
        },
        {
         "name": "concavity error",
         "rawType": "float64",
         "type": "float"
        },
        {
         "name": "concave points error",
         "rawType": "float64",
         "type": "float"
        },
        {
         "name": "symmetry error",
         "rawType": "float64",
         "type": "float"
        },
        {
         "name": "fractal dimension error",
         "rawType": "float64",
         "type": "float"
        },
        {
         "name": "worst radius",
         "rawType": "float64",
         "type": "float"
        },
        {
         "name": "worst texture",
         "rawType": "float64",
         "type": "float"
        },
        {
         "name": "worst perimeter",
         "rawType": "float64",
         "type": "float"
        },
        {
         "name": "worst area",
         "rawType": "float64",
         "type": "float"
        },
        {
         "name": "worst smoothness",
         "rawType": "float64",
         "type": "float"
        },
        {
         "name": "worst compactness",
         "rawType": "float64",
         "type": "float"
        },
        {
         "name": "worst concavity",
         "rawType": "float64",
         "type": "float"
        },
        {
         "name": "worst concave points",
         "rawType": "float64",
         "type": "float"
        },
        {
         "name": "worst symmetry",
         "rawType": "float64",
         "type": "float"
        },
        {
         "name": "worst fractal dimension",
         "rawType": "float64",
         "type": "float"
        }
       ],
       "ref": "43c060dc-2c3d-4ba1-8f60-32df72cbc7af",
       "rows": [
        [
         "0",
         "17.99",
         "10.38",
         "122.8",
         "1001.0",
         "0.1184",
         "0.2776",
         "0.3001",
         "0.1471",
         "0.2419",
         "0.07871",
         "1.095",
         "0.9053",
         "8.589",
         "153.4",
         "0.006399",
         "0.04904",
         "0.05373",
         "0.01587",
         "0.03003",
         "0.006193",
         "25.38",
         "17.33",
         "184.6",
         "2019.0",
         "0.1622",
         "0.6656",
         "0.7119",
         "0.2654",
         "0.4601",
         "0.1189"
        ],
        [
         "1",
         "20.57",
         "17.77",
         "132.9",
         "1326.0",
         "0.08474",
         "0.07864",
         "0.0869",
         "0.07017",
         "0.1812",
         "0.05667",
         "0.5435",
         "0.7339",
         "3.398",
         "74.08",
         "0.005225",
         "0.01308",
         "0.0186",
         "0.0134",
         "0.01389",
         "0.003532",
         "24.99",
         "23.41",
         "158.8",
         "1956.0",
         "0.1238",
         "0.1866",
         "0.2416",
         "0.186",
         "0.275",
         "0.08902"
        ],
        [
         "2",
         "19.69",
         "21.25",
         "130.0",
         "1203.0",
         "0.1096",
         "0.1599",
         "0.1974",
         "0.1279",
         "0.2069",
         "0.05999",
         "0.7456",
         "0.7869",
         "4.585",
         "94.03",
         "0.00615",
         "0.04006",
         "0.03832",
         "0.02058",
         "0.0225",
         "0.004571",
         "23.57",
         "25.53",
         "152.5",
         "1709.0",
         "0.1444",
         "0.4245",
         "0.4504",
         "0.243",
         "0.3613",
         "0.08758"
        ],
        [
         "3",
         "11.42",
         "20.38",
         "77.58",
         "386.1",
         "0.1425",
         "0.2839",
         "0.2414",
         "0.1052",
         "0.2597",
         "0.09744",
         "0.4956",
         "1.156",
         "3.445",
         "27.23",
         "0.00911",
         "0.07458",
         "0.05661",
         "0.01867",
         "0.05963",
         "0.009208",
         "14.91",
         "26.5",
         "98.87",
         "567.7",
         "0.2098",
         "0.8663",
         "0.6869",
         "0.2575",
         "0.6638",
         "0.173"
        ],
        [
         "4",
         "20.29",
         "14.34",
         "135.1",
         "1297.0",
         "0.1003",
         "0.1328",
         "0.198",
         "0.1043",
         "0.1809",
         "0.05883",
         "0.7572",
         "0.7813",
         "5.438",
         "94.44",
         "0.01149",
         "0.02461",
         "0.05688",
         "0.01885",
         "0.01756",
         "0.005115",
         "22.54",
         "16.67",
         "152.2",
         "1575.0",
         "0.1374",
         "0.205",
         "0.4",
         "0.1625",
         "0.2364",
         "0.07678"
        ]
       ],
       "shape": {
        "columns": 30,
        "rows": 5
       }
      },
      "text/html": [
       "<div>\n",
       "<style scoped>\n",
       "    .dataframe tbody tr th:only-of-type {\n",
       "        vertical-align: middle;\n",
       "    }\n",
       "\n",
       "    .dataframe tbody tr th {\n",
       "        vertical-align: top;\n",
       "    }\n",
       "\n",
       "    .dataframe thead th {\n",
       "        text-align: right;\n",
       "    }\n",
       "</style>\n",
       "<table border=\"1\" class=\"dataframe\">\n",
       "  <thead>\n",
       "    <tr style=\"text-align: right;\">\n",
       "      <th></th>\n",
       "      <th>mean radius</th>\n",
       "      <th>mean texture</th>\n",
       "      <th>mean perimeter</th>\n",
       "      <th>mean area</th>\n",
       "      <th>mean smoothness</th>\n",
       "      <th>mean compactness</th>\n",
       "      <th>mean concavity</th>\n",
       "      <th>mean concave points</th>\n",
       "      <th>mean symmetry</th>\n",
       "      <th>mean fractal dimension</th>\n",
       "      <th>...</th>\n",
       "      <th>worst radius</th>\n",
       "      <th>worst texture</th>\n",
       "      <th>worst perimeter</th>\n",
       "      <th>worst area</th>\n",
       "      <th>worst smoothness</th>\n",
       "      <th>worst compactness</th>\n",
       "      <th>worst concavity</th>\n",
       "      <th>worst concave points</th>\n",
       "      <th>worst symmetry</th>\n",
       "      <th>worst fractal dimension</th>\n",
       "    </tr>\n",
       "  </thead>\n",
       "  <tbody>\n",
       "    <tr>\n",
       "      <th>0</th>\n",
       "      <td>17.99</td>\n",
       "      <td>10.38</td>\n",
       "      <td>122.80</td>\n",
       "      <td>1001.0</td>\n",
       "      <td>0.11840</td>\n",
       "      <td>0.27760</td>\n",
       "      <td>0.3001</td>\n",
       "      <td>0.14710</td>\n",
       "      <td>0.2419</td>\n",
       "      <td>0.07871</td>\n",
       "      <td>...</td>\n",
       "      <td>25.38</td>\n",
       "      <td>17.33</td>\n",
       "      <td>184.60</td>\n",
       "      <td>2019.0</td>\n",
       "      <td>0.1622</td>\n",
       "      <td>0.6656</td>\n",
       "      <td>0.7119</td>\n",
       "      <td>0.2654</td>\n",
       "      <td>0.4601</td>\n",
       "      <td>0.11890</td>\n",
       "    </tr>\n",
       "    <tr>\n",
       "      <th>1</th>\n",
       "      <td>20.57</td>\n",
       "      <td>17.77</td>\n",
       "      <td>132.90</td>\n",
       "      <td>1326.0</td>\n",
       "      <td>0.08474</td>\n",
       "      <td>0.07864</td>\n",
       "      <td>0.0869</td>\n",
       "      <td>0.07017</td>\n",
       "      <td>0.1812</td>\n",
       "      <td>0.05667</td>\n",
       "      <td>...</td>\n",
       "      <td>24.99</td>\n",
       "      <td>23.41</td>\n",
       "      <td>158.80</td>\n",
       "      <td>1956.0</td>\n",
       "      <td>0.1238</td>\n",
       "      <td>0.1866</td>\n",
       "      <td>0.2416</td>\n",
       "      <td>0.1860</td>\n",
       "      <td>0.2750</td>\n",
       "      <td>0.08902</td>\n",
       "    </tr>\n",
       "    <tr>\n",
       "      <th>2</th>\n",
       "      <td>19.69</td>\n",
       "      <td>21.25</td>\n",
       "      <td>130.00</td>\n",
       "      <td>1203.0</td>\n",
       "      <td>0.10960</td>\n",
       "      <td>0.15990</td>\n",
       "      <td>0.1974</td>\n",
       "      <td>0.12790</td>\n",
       "      <td>0.2069</td>\n",
       "      <td>0.05999</td>\n",
       "      <td>...</td>\n",
       "      <td>23.57</td>\n",
       "      <td>25.53</td>\n",
       "      <td>152.50</td>\n",
       "      <td>1709.0</td>\n",
       "      <td>0.1444</td>\n",
       "      <td>0.4245</td>\n",
       "      <td>0.4504</td>\n",
       "      <td>0.2430</td>\n",
       "      <td>0.3613</td>\n",
       "      <td>0.08758</td>\n",
       "    </tr>\n",
       "    <tr>\n",
       "      <th>3</th>\n",
       "      <td>11.42</td>\n",
       "      <td>20.38</td>\n",
       "      <td>77.58</td>\n",
       "      <td>386.1</td>\n",
       "      <td>0.14250</td>\n",
       "      <td>0.28390</td>\n",
       "      <td>0.2414</td>\n",
       "      <td>0.10520</td>\n",
       "      <td>0.2597</td>\n",
       "      <td>0.09744</td>\n",
       "      <td>...</td>\n",
       "      <td>14.91</td>\n",
       "      <td>26.50</td>\n",
       "      <td>98.87</td>\n",
       "      <td>567.7</td>\n",
       "      <td>0.2098</td>\n",
       "      <td>0.8663</td>\n",
       "      <td>0.6869</td>\n",
       "      <td>0.2575</td>\n",
       "      <td>0.6638</td>\n",
       "      <td>0.17300</td>\n",
       "    </tr>\n",
       "    <tr>\n",
       "      <th>4</th>\n",
       "      <td>20.29</td>\n",
       "      <td>14.34</td>\n",
       "      <td>135.10</td>\n",
       "      <td>1297.0</td>\n",
       "      <td>0.10030</td>\n",
       "      <td>0.13280</td>\n",
       "      <td>0.1980</td>\n",
       "      <td>0.10430</td>\n",
       "      <td>0.1809</td>\n",
       "      <td>0.05883</td>\n",
       "      <td>...</td>\n",
       "      <td>22.54</td>\n",
       "      <td>16.67</td>\n",
       "      <td>152.20</td>\n",
       "      <td>1575.0</td>\n",
       "      <td>0.1374</td>\n",
       "      <td>0.2050</td>\n",
       "      <td>0.4000</td>\n",
       "      <td>0.1625</td>\n",
       "      <td>0.2364</td>\n",
       "      <td>0.07678</td>\n",
       "    </tr>\n",
       "  </tbody>\n",
       "</table>\n",
       "<p>5 rows × 30 columns</p>\n",
       "</div>"
      ],
      "text/plain": [
       "   mean radius  mean texture  mean perimeter  mean area  mean smoothness  \\\n",
       "0        17.99         10.38          122.80     1001.0          0.11840   \n",
       "1        20.57         17.77          132.90     1326.0          0.08474   \n",
       "2        19.69         21.25          130.00     1203.0          0.10960   \n",
       "3        11.42         20.38           77.58      386.1          0.14250   \n",
       "4        20.29         14.34          135.10     1297.0          0.10030   \n",
       "\n",
       "   mean compactness  mean concavity  mean concave points  mean symmetry  \\\n",
       "0           0.27760          0.3001              0.14710         0.2419   \n",
       "1           0.07864          0.0869              0.07017         0.1812   \n",
       "2           0.15990          0.1974              0.12790         0.2069   \n",
       "3           0.28390          0.2414              0.10520         0.2597   \n",
       "4           0.13280          0.1980              0.10430         0.1809   \n",
       "\n",
       "   mean fractal dimension  ...  worst radius  worst texture  worst perimeter  \\\n",
       "0                 0.07871  ...         25.38          17.33           184.60   \n",
       "1                 0.05667  ...         24.99          23.41           158.80   \n",
       "2                 0.05999  ...         23.57          25.53           152.50   \n",
       "3                 0.09744  ...         14.91          26.50            98.87   \n",
       "4                 0.05883  ...         22.54          16.67           152.20   \n",
       "\n",
       "   worst area  worst smoothness  worst compactness  worst concavity  \\\n",
       "0      2019.0            0.1622             0.6656           0.7119   \n",
       "1      1956.0            0.1238             0.1866           0.2416   \n",
       "2      1709.0            0.1444             0.4245           0.4504   \n",
       "3       567.7            0.2098             0.8663           0.6869   \n",
       "4      1575.0            0.1374             0.2050           0.4000   \n",
       "\n",
       "   worst concave points  worst symmetry  worst fractal dimension  \n",
       "0                0.2654          0.4601                  0.11890  \n",
       "1                0.1860          0.2750                  0.08902  \n",
       "2                0.2430          0.3613                  0.08758  \n",
       "3                0.2575          0.6638                  0.17300  \n",
       "4                0.1625          0.2364                  0.07678  \n",
       "\n",
       "[5 rows x 30 columns]"
      ]
     },
     "metadata": {},
     "output_type": "display_data"
    },
    {
     "name": "stdout",
     "output_type": "stream",
     "text": [
      "\n",
      "Información del dataset:\n",
      "<class 'pandas.core.frame.DataFrame'>\n",
      "RangeIndex: 569 entries, 0 to 568\n",
      "Data columns (total 30 columns):\n",
      " #   Column                   Non-Null Count  Dtype  \n",
      "---  ------                   --------------  -----  \n",
      " 0   mean radius              569 non-null    float64\n",
      " 1   mean texture             569 non-null    float64\n",
      " 2   mean perimeter           569 non-null    float64\n",
      " 3   mean area                569 non-null    float64\n",
      " 4   mean smoothness          569 non-null    float64\n",
      " 5   mean compactness         569 non-null    float64\n",
      " 6   mean concavity           569 non-null    float64\n",
      " 7   mean concave points      569 non-null    float64\n",
      " 8   mean symmetry            569 non-null    float64\n",
      " 9   mean fractal dimension   569 non-null    float64\n",
      " 10  radius error             569 non-null    float64\n",
      " 11  texture error            569 non-null    float64\n",
      " 12  perimeter error          569 non-null    float64\n",
      " 13  area error               569 non-null    float64\n",
      " 14  smoothness error         569 non-null    float64\n",
      " 15  compactness error        569 non-null    float64\n",
      " 16  concavity error          569 non-null    float64\n",
      " 17  concave points error     569 non-null    float64\n",
      " 18  symmetry error           569 non-null    float64\n",
      " 19  fractal dimension error  569 non-null    float64\n",
      " 20  worst radius             569 non-null    float64\n",
      " 21  worst texture            569 non-null    float64\n",
      " 22  worst perimeter          569 non-null    float64\n",
      " 23  worst area               569 non-null    float64\n",
      " 24  worst smoothness         569 non-null    float64\n",
      " 25  worst compactness        569 non-null    float64\n",
      " 26  worst concavity          569 non-null    float64\n",
      " 27  worst concave points     569 non-null    float64\n",
      " 28  worst symmetry           569 non-null    float64\n",
      " 29  worst fractal dimension  569 non-null    float64\n",
      "dtypes: float64(30)\n",
      "memory usage: 133.5 KB\n",
      "\n",
      "Dimensiones de X: (569, 30)\n",
      "Dimensiones de y: (569,)\n",
      "Clases en y: [0 1]\n"
     ]
    }
   ],
   "source": [
    "# Cargar el dataset\n",
    "cancer_data = load_breast_cancer()\n",
    "X = pd.DataFrame(cancer_data.data, columns=cancer_data.feature_names)\n",
    "y = pd.Series(cancer_data.target)\n",
    "\n",
    "print(\"Primeras filas de las características (X):\")\n",
    "display(X.head())\n",
    "\n",
    "print(\"\\nInformación del dataset:\")\n",
    "X.info()\n",
    "\n",
    "print(f\"\\nDimensiones de X: {X.shape}\")\n",
    "print(f\"Dimensiones de y: {y.shape}\")\n",
    "print(f\"Clases en y: {np.unique(y)}\")"
   ]
  },
  {
   "cell_type": "markdown",
   "id": "570dbfa4",
   "metadata": {},
   "source": [
    "### **2.2. Preprocesamiento**\n",
    "\n",
    "Aunque no hay valores nulos ni características categóricas, es fundamental escalar las características numéricas, ya que las redes neuronales son sensibles a la escala de los datos de entrada.\n",
    "\n",
    "1.  Dividiremos los datos en conjuntos de entrenamiento y prueba.\n",
    "2.  Escalaremos las características con `StandardScaler`.\n",
    "3.  Convertiremos los datos a tensores de PyTorch."
   ]
  },
  {
   "cell_type": "code",
   "execution_count": 4,
   "id": "40e3d230",
   "metadata": {},
   "outputs": [
    {
     "name": "stdout",
     "output_type": "stream",
     "text": [
      "\n",
      "Dimensión de entrada para la red neuronal: 30\n"
     ]
    }
   ],
   "source": [
    "# Dividir los datos en conjuntos de entrenamiento y prueba\n",
    "X_train, X_test, y_train, y_test = train_test_split(X, y, test_size=0.2, random_state=42, stratify=y)\n",
    "\n",
    "# Escalar las características\n",
    "scaler = StandardScaler()\n",
    "X_train_scaled = scaler.fit_transform(X_train)\n",
    "X_test_scaled = scaler.transform(X_test)\n",
    "\n",
    "# Convertir a tensores de PyTorch\n",
    "X_train_tensor = torch.tensor(X_train_scaled, dtype=torch.float32)\n",
    "y_train_tensor = torch.tensor(y_train.values, dtype=torch.float32).unsqueeze(1)\n",
    "X_test_tensor = torch.tensor(X_test_scaled, dtype=torch.float32)\n",
    "y_test_tensor = torch.tensor(y_test.values, dtype=torch.float32).unsqueeze(1)\n",
    "\n",
    "# Crear DataLoaders para manejar los datos en lotes\n",
    "train_dataset = TensorDataset(X_train_tensor, y_train_tensor)\n",
    "test_dataset = TensorDataset(X_test_tensor, y_test_tensor)\n",
    "\n",
    "train_loader = DataLoader(dataset=train_dataset, batch_size=32, shuffle=True)\n",
    "test_loader = DataLoader(dataset=test_dataset, batch_size=32, shuffle=False)\n",
    "\n",
    "# Obtener el número de características de entrada\n",
    "input_dim = X.shape[1]\n",
    "print(f\"\\nDimensión de entrada para la red neuronal: {input_dim}\")"
   ]
  },
  {
   "cell_type": "markdown",
   "id": "b507bca7",
   "metadata": {},
   "source": [
    "## **3. Definición del Modelo y la Función de Entrenamiento**\n",
    "\n",
    "### **3.1. Arquitectura de la Red Neuronal (PyTorch)**\n",
    "\n",
    "Creamos una clase para nuestra red neuronal. La arquitectura será flexible para aceptar los hiperparámetros que DEAP optimizará."
   ]
  },
  {
   "cell_type": "code",
   "execution_count": 5,
   "id": "87fce15f",
   "metadata": {},
   "outputs": [],
   "source": [
    "class ClassificationNet(nn.Module):\n",
    "    def __init__(self, input_size, n_neurons_l1, n_neurons_l2, dropout_rate):\n",
    "        super(ClassificationNet, self).__init__()\n",
    "        self.network = nn.Sequential(\n",
    "            nn.Linear(input_size, int(n_neurons_l1)),\n",
    "            nn.LeakyReLU(),\n",
    "            nn.Dropout(dropout_rate),\n",
    "            nn.Linear(int(n_neurons_l1), int(n_neurons_l2)),\n",
    "            nn.LeakyReLU(),\n",
    "            nn.Linear(int(n_neurons_l2), 1),\n",
    "            nn.Sigmoid()\n",
    "        )\n",
    "\n",
    "    def forward(self, x):\n",
    "        return self.network(x)"
   ]
  },
  {
   "cell_type": "markdown",
   "id": "19a87bbf",
   "metadata": {},
   "source": [
    "### **3.2. Función de Entrenamiento y Evaluación**\n",
    "\n",
    "Esta función es crucial. Recibe un conjunto de hiperparámetros, entrena el modelo con ellos y devuelve la precisión en el conjunto de prueba. DEAP usará el valor de retorno de esta función como la \"aptitud\" (fitness) de cada individuo (conjunto de hiperparámetros)."
   ]
  },
  {
   "cell_type": "code",
   "execution_count": 6,
   "id": "7ec707d0",
   "metadata": {
    "lines_to_next_cell": 1
   },
   "outputs": [],
   "source": [
    "def entrenar_evaluar(params):\n",
    "    \"\"\"\n",
    "    Entrena y evalúa un modelo de PyTorch con los hiperparámetros dados.\n",
    "    Args:\n",
    "        params (list): Una lista de hiperparámetros [lr, n1, n2, dropout].\n",
    "    Returns:\n",
    "        tuple: Una tupla conteniendo la precisión (accuracy).\n",
    "    \"\"\"\n",
    "    learning_rate, n_neurons_l1, n_neurons_l2, dropout_rate = params\n",
    "\n",
    "    # Crear el modelo\n",
    "    model = ClassificationNet(\n",
    "        input_size=input_dim,\n",
    "        n_neurons_l1=n_neurons_l1,\n",
    "        n_neurons_l2=n_neurons_l2,\n",
    "        dropout_rate=dropout_rate\n",
    "    )\n",
    "\n",
    "    criterion = nn.BCELoss()\n",
    "    optimizer = optim.Adam(model.parameters(), lr=learning_rate)\n",
    "    num_epochs = 15 # Usamos un número fijo de épocas para que la optimización sea rápida\n",
    "\n",
    "    # Bucle de entrenamiento\n",
    "    for epoch in range(num_epochs):\n",
    "        model.train()\n",
    "        for batch_X, batch_y in train_loader:\n",
    "            outputs = model(batch_X)\n",
    "            loss = criterion(outputs, batch_y)\n",
    "\n",
    "            optimizer.zero_grad()\n",
    "            loss.backward()\n",
    "            optimizer.step()\n",
    "\n",
    "    # Bucle de evaluación\n",
    "    model.eval()\n",
    "    all_preds = []\n",
    "    with torch.no_grad():\n",
    "        for batch_X, _ in test_loader: # No necesitamos y_test aquí dentro\n",
    "            outputs = model(batch_X)\n",
    "            predicted = (outputs > 0.5).float()\n",
    "            all_preds.extend(predicted.cpu().numpy())\n",
    "\n",
    "    accuracy = accuracy_score(y_test, np.array(all_preds))\n",
    "\n",
    "    return (accuracy,) # DEAP espera una tupla como fitness"
   ]
  },
  {
   "cell_type": "markdown",
   "id": "e0082fe9",
   "metadata": {},
   "source": [
    "## **4. Configuración de la Optimización con DEAP**\n",
    "\n",
    "### **4.1. Definición del Espacio de Búsqueda**\n",
    "\n",
    "Definimos los hiperparámetros que queremos optimizar y sus rangos.\n",
    "- **Tasa de Aprendizaje (Learning Rate):** Un número flotante.\n",
    "- **Neuronas Capa 1:** Un número entero.\n",
    "- **Neuronas Capa 2:** Un número entero.\n",
    "- **Tasa de Dropout:** Un número flotante.\n",
    "\n",
    "Un \"individuo\" en nuestra población evolutiva será una lista con una combinación de estos valores."
   ]
  },
  {
   "cell_type": "code",
   "execution_count": 7,
   "id": "1daf45f3",
   "metadata": {},
   "outputs": [],
   "source": [
    "# Definir los límites para cada hiperparámetro\n",
    "# [learning_rate, neuronas_l1, neuronas_l2, dropout]\n",
    "BOUNDS_LOW = [0.0001, 16, 8, 0.1]\n",
    "BOUNDS_HIGH = [0.01, 128, 64, 0.5]\n",
    "\n",
    "NUM_PARAMS = 4 # Número de hiperparámetros a optimizar"
   ]
  },
  {
   "cell_type": "markdown",
   "id": "78c49c7a",
   "metadata": {},
   "source": [
    "### **4.2. Creación de Tipos y Toolbox de DEAP**\n",
    "\n",
    "Configuramos DEAP para nuestro problema.\n",
    "- **FitnessMax**: Le decimos a DEAP que queremos maximizar la función de aptitud (la precisión del modelo).\n",
    "- **Individual**: Un individuo es una lista de hiperparámetros con un atributo de fitness.\n",
    "- **Toolbox**: Registramos todas las funciones que el algoritmo evolutivo necesitará."
   ]
  },
  {
   "cell_type": "code",
   "execution_count": 8,
   "id": "74a0bafc",
   "metadata": {},
   "outputs": [],
   "source": [
    "# Crear los tipos de Fitness e Individuo\n",
    "creator.create(\"FitnessMax\", base.Fitness, weights=(1.0,))\n",
    "creator.create(\"Individual\", list, fitness=creator.FitnessMax)\n",
    "\n",
    "# Crear la Toolbox\n",
    "toolbox = base.Toolbox()\n",
    "\n",
    "# Generadores de atributos (hiperparámetros)\n",
    "toolbox.register(\"attr_lr\", random.uniform, BOUNDS_LOW[0], BOUNDS_HIGH[0])\n",
    "toolbox.register(\"attr_n1\", random.randint, BOUNDS_LOW[1], BOUNDS_HIGH[1])\n",
    "toolbox.register(\"attr_n2\", random.randint, BOUNDS_LOW[2], BOUNDS_HIGH[2])\n",
    "toolbox.register(\"attr_dropout\", random.uniform, BOUNDS_LOW[3], BOUNDS_HIGH[3])\n",
    "\n",
    "# Crear un individuo: una lista con [lr, n1, n2, dropout]\n",
    "toolbox.register(\"individual\", tools.initCycle, creator.Individual,\n",
    "                 (toolbox.attr_lr, toolbox.attr_n1, toolbox.attr_n2, toolbox.attr_dropout), n=1)\n",
    "\n",
    "# Crear la población\n",
    "toolbox.register(\"population\", tools.initRepeat, list, toolbox.individual)\n",
    "\n",
    "# Registrar la función de evaluación (nuestro wrapper de entrenamiento)\n",
    "toolbox.register(\"evaluate\", entrenar_evaluar)\n",
    "\n",
    "# Registrar los operadores genéticos\n",
    "toolbox.register(\"mate\", tools.cxBlend, alpha=0.5)\n",
    "toolbox.register(\"mutate\", tools.mutGaussian, mu=0, sigma=0.2, indpb=0.2)\n",
    "toolbox.register(\"select\", tools.selTournament, tournsize=3)\n",
    "\n",
    "# Decorador para asegurar que la mutación no exceda los límites\n",
    "def checkBounds(min_b, max_b):\n",
    "    def decorator(func):\n",
    "        def wrapper(*args, **kwargs):\n",
    "            offspring = func(*args, **kwargs)\n",
    "            for i, child in enumerate(offspring):\n",
    "                for j in range(len(child)):\n",
    "                    if child[j] > max_b[j]:\n",
    "                        child[j] = max_b[j]\n",
    "                    elif child[j] < min_b[j]:\n",
    "                        child[j] = min_b[j]\n",
    "            return offspring\n",
    "        return wrapper\n",
    "    return decorator\n",
    "\n",
    "toolbox.decorate(\"mate\", checkBounds(BOUNDS_LOW, BOUNDS_HIGH))\n",
    "toolbox.decorate(\"mutate\", checkBounds(BOUNDS_LOW, BOUNDS_HIGH))"
   ]
  },
  {
   "cell_type": "markdown",
   "id": "71735c6e",
   "metadata": {},
   "source": [
    "## **5. Ejecución del Algoritmo Evolutivo**\n",
    "\n",
    "Ahora, ejecutamos el algoritmo. Usaremos `eaSimple` de DEAP, que implementa un bucle evolutivo estándar.\n",
    "\n",
    "- **Población**: 10 individuos.\n",
    "- **Generaciones**: 5 generaciones.\n",
    "- **Probabilidades**: Cruce (CXPB) del 50%, Mutación (MUTPB) del 30%.\n",
    "\n",
    "**Nota:** Estos valores son bajos para que la ejecución sea rápida a modo de demostración. En un caso real, se usarían poblaciones y generaciones más grandes (ej: 50 individuos, 20 generaciones)."
   ]
  },
  {
   "cell_type": "code",
   "execution_count": null,
   "id": "37640be4",
   "metadata": {
    "lines_to_next_cell": 2
   },
   "outputs": [
    {
     "name": "stdout",
     "output_type": "stream",
     "text": [
      "gen\tnevals\tavg     \tstd       \tmin     \tmax     \n",
      "0  \t10    \t0.958772\t0.00789474\t0.938596\t0.964912\n",
      "1  \t7     \t0.951754\t0.0251955 \t0.877193\t0.964912\n",
      "2  \t5     \t0.961404\t0.00581864\t0.95614 \t0.973684\n",
      "3  \t6     \t0.961404\t0.00701754\t0.95614 \t0.973684\n",
      "4  \t4     \t0.963158\t0.0085947 \t0.947368\t0.973684\n",
      "5  \t6     \t0.964912\t0.00877193\t0.947368\t0.973684\n"
     ]
    }
   ],
   "source": [
    "# Parámetros del algoritmo genético\n",
    "POPULATION_SIZE = 10\n",
    "N_GENERATIONS = 5\n",
    "P_CROSSOVER = 0.5\n",
    "P_MUTATION = 0.3\n",
    "\n",
    "# Crear la población inicial\n",
    "pop = toolbox.population(n=POPULATION_SIZE)\n",
    "\n",
    "# Guardar el mejor individuo\n",
    "hof = tools.HallOfFame(1)\n",
    "\n",
    "# Registrar estadísticas\n",
    "stats = tools.Statistics(lambda ind: ind.fitness.values)\n",
    "stats.register(\"avg\", np.mean)\n",
    "stats.register(\"std\", np.std)\n",
    "stats.register(\"min\", np.min)\n",
    "stats.register(\"max\", np.max)\n",
    "\n",
    "# Ejecutar el algoritmo\n",
    "pop, log = algorithms.eaSimple(pop, toolbox,\n",
    "                                cxpb=P_CROSSOVER,\n",
    "                                mutpb=P_MUTATION,\n",
    "                                ngen=N_GENERATIONS,\n",
    "                                stats=stats,\n",
    "                                halloffame=hof,\n",
    "                                verbose=True)"
   ]
  },
  {
   "cell_type": "markdown",
   "id": "52a58692",
   "metadata": {},
   "source": [
    "## **6. Resultados de la Optimización**\n",
    "\n",
    "Una vez que el algoritmo ha terminado, el \"Salón de la Fama\" (`hof`) contiene el mejor individuo (la mejor combinación de hiperparámetros) encontrado en todas las generaciones."
   ]
  },
  {
   "cell_type": "code",
   "execution_count": 10,
   "id": "27aeba23",
   "metadata": {},
   "outputs": [
    {
     "name": "stdout",
     "output_type": "stream",
     "text": [
      "\n",
      "--- Mejor Solución Encontrada ---\n",
      "Hiperparámetros (Individuo): [0.00789822956776613, 123.0, 8.0, 0.181023006706358]\n",
      "Precisión (Fitness): 0.9737\n",
      "\n",
      "Detalle de los mejores hiperparámetros:\n",
      " - Tasa de Aprendizaje: 0.007898\n",
      " - Neuronas en Capa 1: 123\n",
      " - Neuronas en Capa 2: 8\n",
      " - Tasa de Dropout: 0.1810\n"
     ]
    }
   ],
   "source": [
    "# Imprimir el mejor resultado\n",
    "best_individual = hof[0]\n",
    "best_fitness = best_individual.fitness.values[0]\n",
    "\n",
    "print(\"\\n--- Mejor Solución Encontrada ---\")\n",
    "print(f\"Hiperparámetros (Individuo): {best_individual}\")\n",
    "print(f\"Precisión (Fitness): {best_fitness:.4f}\")\n",
    "\n",
    "print(\"\\nDetalle de los mejores hiperparámetros:\")\n",
    "print(f\" - Tasa de Aprendizaje: {best_individual[0]:.6f}\")\n",
    "print(f\" - Neuronas en Capa 1: {int(best_individual[1])}\")\n",
    "print(f\" - Neuronas en Capa 2: {int(best_individual[2])}\")\n",
    "print(f\" - Tasa de Dropout: {best_individual[3]:.4f}\")"
   ]
  },
  {
   "cell_type": "markdown",
   "id": "c5a593f9",
   "metadata": {},
   "source": [
    "### **Visualización del Progreso**\n",
    "\n",
    "Podemos graficar las estadísticas recopiladas durante la evolución para ver cómo mejoró la precisión promedio y máxima a lo largo de las generaciones."
   ]
  },
  {
   "cell_type": "code",
   "execution_count": 11,
   "id": "fefd72aa",
   "metadata": {},
   "outputs": [
    {
     "data": {
      "image/png": "[encoded data removed]",
      "text/plain": [
       "<Figure size 1000x600 with 1 Axes>"
      ]
     },
     "metadata": {},
     "output_type": "display_data"
    }
   ],
   "source": [
    "# Extraer estadísticas del logbook\n",
    "gen = log.select(\"gen\")\n",
    "max_fitness = log.select(\"max\")\n",
    "avg_fitness = log.select(\"avg\")\n",
    "\n",
    "# Graficar\n",
    "fig, ax1 = plt.subplots(figsize=(10, 6))\n",
    "\n",
    "# Trama de la precisión\n",
    "sns.lineplot(x=gen, y=max_fitness, ax=ax1, marker='o', color='b', label='Precisión Máxima')\n",
    "sns.lineplot(x=gen, y=avg_fitness, ax=ax1, marker='x', color='g', label='Precisión Promedio')\n",
    "\n",
    "ax1.set_xlabel(\"Generación\")\n",
    "ax1.set_ylabel(\"Precisión (Fitness)\")\n",
    "ax1.set_title(\"Evolución de la Precisión del Modelo por Generación\")\n",
    "ax1.legend()\n",
    "plt.grid(True)\n",
    "plt.show()"
   ]
  }
 ],
 "metadata": {
  "jupytext": {
   "cell_metadata_filter": "-all",
   "main_language": "python",
   "notebook_metadata_filter": "-all"
  },
  "kernelspec": {
   "display_name": "MADSI",
   "language": "python",
   "name": "python3"
  },
  "language_info": {
   "codemirror_mode": {
    "name": "ipython",
    "version": 3
   },
   "file_extension": ".py",
   "mimetype": "text/x-python",
   "name": "python",
   "nbconvert_exporter": "python",
   "pygments_lexer": "ipython3",
   "version": "3.11.11"
  }
 },
 "nbformat": 4,
 "nbformat_minor": 5
}
