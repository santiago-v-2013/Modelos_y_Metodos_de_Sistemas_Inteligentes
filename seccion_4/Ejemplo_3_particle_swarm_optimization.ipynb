{
 "cells": [
  {
   "cell_type": "markdown",
   "id": "0f5eeaeb",
   "metadata": {},
   "source": [
    "# **Ejercicio 4 (Maximización de Área con PSO)**\n",
    "\n",
    "**Objetivo:** Determinar las dimensiones de una ventana, compuesta por un rectángulo con un semicírculo en la parte superior, que maximicen su área total (para permitir la mayor entrada de luz), utilizando una cantidad fija de 12 m de material para el marco y aplicando el algoritmo de Optimización por Enjambre de Partículas (PSO)."
   ]
  },
  {
   "cell_type": "markdown",
   "id": "dbff5b95",
   "metadata": {},
   "source": [
    "## **Configuración Inicial**\n",
    "\n",
    "### **Instalar y Cargar Librerías**\n",
    "Se importan las librerías necesarias. DEAP es el framework principal para implementar el algoritmo PSO."
   ]
  },
  {
   "cell_type": "code",
   "execution_count": 1,
   "id": "101db873",
   "metadata": {},
   "outputs": [],
   "source": [
    "# Si es necesario, instalar el paquete DEAP\n",
    "# !pip install deap"
   ]
  },
  {
   "cell_type": "code",
   "execution_count": 2,
   "id": "ab4abb28",
   "metadata": {
    "lines_to_next_cell": 1
   },
   "outputs": [],
   "source": [
    "# Importar paquetes\n",
    "import matplotlib.pyplot as plt\n",
    "from deap import base, creator, tools\n",
    "import pandas as pd\n",
    "import operator\n",
    "import random\n",
    "import numpy\n",
    "import math"
   ]
  },
  {
   "cell_type": "markdown",
   "id": "3001ed46",
   "metadata": {},
   "source": [
    "## **Planteamiento del Problema**\n",
    "\n",
    "Se desea construir una ventana que consiste en un rectángulo con un semicírculo en la parte superior. Se dispone de 12 m de material para el marco.\n",
    "\n",
    "* **Variables:**\n",
    "    * `r`: Radio del semicírculo, que también es la mitad del ancho del rectángulo.\n",
    "    * `h`: Altura de la parte rectangular.\n",
    "\n",
    "* **Función Objetivo (Área):**\n",
    "El área total es la suma del área del rectángulo y el área del semicírculo.\n",
    "\n",
    "    $$ A = \\text{Área del rectángulo} + \\text{Área del semicírculo} = (2r)h + \\frac{1}{2}\\pi r^2 $$\n",
    "\n",
    "* **Restricción (Perímetro):**\n",
    "El material total para el marco es la suma de la base del rectángulo, las dos alturas y el arco del semicírculo.\n",
    "\n",
    "    $$ \\text{Perímetro Total} = (2r) + 2h + (\\pi r) = 12 $$\n",
    "\n",
    "    De esta restricción, podemos despejar la altura `h` en función de `r`:\n",
    "\n",
    "    $$ 2h = 12 - 2r - \\pi r $$\n",
    "    $$ h = \\frac{12 - 2r - \\pi r}{2} = 6 - r - \\frac{\\pi}{2}r $$\n",
    "\n",
    "    Sustituyendo `h` en la función de área, obtenemos la función objetivo dependiente de una sola variable, `r`:\n",
    "\n",
    "    $$ \\text{Maximizar } A(r) = 2r \\left( 6 - r - \\frac{\\pi}{2}r \\right) + \\frac{1}{2}\\pi r^2 $$\n",
    "    $$ A(r) = 12r - 2r^2 - \\pi r^2 + \\frac{1}{2}\\pi r^2 $$\n",
    "    $$ A(r) = 12r - 2r^2 - \\frac{1}{2}\\pi r^2 = 12r - r^2 \\left( 2 + \\frac{\\pi}{2} \\right) $$\n",
    "\n",
    "* **Restricciones de Dominio:**\n",
    "    * `r > 0` (El radio debe ser positivo).\n",
    "    * La restricción `h > 0` (la altura debe ser positiva) nos lleva a la siguiente lógica para encontrar el límite superior de `r`:\n",
    "\n",
    "        1.  **Fórmula de la Altura:** Expresamos la altura en función de `r`.\n",
    "            $$ h = 6 - r - \\frac{\\pi}{2}r $$\n",
    "\n",
    "        2.  **Aplicar la Restricción:** Como la altura debe ser mayor que cero (`h > 0`).\n",
    "            $$ 6 - r - \\frac{\\pi}{2}r > 0 $$\n",
    "\n",
    "        3.  **Resolver la Desigualdad:**\n",
    "            $$ 6 > r + \\frac{\\pi}{2}r $$\n",
    "            $$ 6 > r \\left( 1 + \\frac{\\pi}{2} \\right) $$\n",
    "            $$ \\frac{6}{1 + \\frac{\\pi}{2}} > r $$\n",
    "\n",
    "        4.  **Conclusión:**\n",
    "            $$ r < \\frac{12}{2 + \\pi} \\approx 2.333 $$\n",
    "\n",
    "    Por lo tanto, el radio `r` de la base debe ser menor que aproximadamente 2.333 metros para que la ventana tenga una altura positiva."
   ]
  },
  {
   "cell_type": "markdown",
   "id": "f4a97cfd",
   "metadata": {},
   "source": [
    "### **Funciones del Problema**\n",
    "* **`objective_function`**: Calcula el área de la ventana, que es el valor a maximizar.\n",
    "* **`feasible`**: Verifica si una partícula (un valor de `r`) cumple con las restricciones de dominio."
   ]
  },
  {
   "cell_type": "code",
   "execution_count": 3,
   "id": "47b3f43c",
   "metadata": {
    "lines_to_next_cell": 1
   },
   "outputs": [],
   "source": [
    "# Función Objetivo\n",
    "# Maximizar el área A(r) = 12*r - 2*r^2 - (pi/2)*r^2\n",
    "def objective_function(individual):\n",
    "    r = individual[0]\n",
    "    # Se desglosa la fórmula para mayor claridad.\n",
    "    area = 12*r - 2*(r**2) - (math.pi/2)*(r**2)\n",
    "    return area,"
   ]
  },
  {
   "cell_type": "code",
   "execution_count": 4,
   "id": "a3de9425",
   "metadata": {
    "lines_to_next_cell": 1
   },
   "outputs": [],
   "source": [
    "# Restricción del Problema\n",
    "# Verifica si la partícula es una solución factible (0 < r < 12 / (2 + pi)).\n",
    "def feasible(individual):\n",
    "    r = individual[0]\n",
    "    if r < 0:\n",
    "        return False\n",
    "    # La restricción h > 0 implica r < 12 / (2 + pi)\n",
    "    if r > 12 / (2 + math.pi):\n",
    "      return False\n",
    "    return True"
   ]
  },
  {
   "cell_type": "markdown",
   "id": "7490f42c",
   "metadata": {},
   "source": [
    "## **Configuración del Algoritmo PSO**\n",
    "\n",
    "### **1. Creación de Tipos con `creator`**\n",
    "Se definen las estructuras para el **Fitness** y la **Partícula**.\n",
    "\n",
    "* **`FitnessMax`**: Define un objetivo de maximización con `weights=(1.0,)`.\n",
    "* **`Particle`**: Define la estructura de una partícula con sus atributos específicos para PSO: `speed` (velocidad), `smin`/`smax` (límites de velocidad) y `best` (mejor posición personal)."
   ]
  },
  {
   "cell_type": "code",
   "execution_count": 5,
   "id": "d14cf3e9",
   "metadata": {
    "lines_to_next_cell": 1
   },
   "outputs": [],
   "source": [
    "# Crear los tipos de Fitness y Partícula\n",
    "creator.create(\"FitnessMax\", base.Fitness, weights=(1.0,))\n",
    "creator.create(\"Particle\", list, fitness=creator.FitnessMax, speed=list, smin=None, smax=None, best=None)"
   ]
  },
  {
   "cell_type": "markdown",
   "id": "19b4ffc5",
   "metadata": {},
   "source": [
    "### **2. Funciones para Generar y Actualizar Partículas**\n",
    "* **`generate`**: Inicializa una partícula con una posición y velocidad aleatorias.\n",
    "* **`updateParticle`**: Implementa la lógica de movimiento de PSO, actualizando la velocidad y posición de la partícula basándose en su mejor posición y la del enjambre."
   ]
  },
  {
   "cell_type": "code",
   "execution_count": 6,
   "id": "6c6e21f5",
   "metadata": {
    "lines_to_next_cell": 1
   },
   "outputs": [],
   "source": [
    "# Función para generar una partícula con posición y velocidad iniciales aleatorias.\n",
    "def generate(size, pmin, pmax, smin, smax):\n",
    "    part = creator.Particle(random.uniform(pmin, pmax) for _ in range(size))\n",
    "    part.speed = [random.uniform(smin, smax) for _ in range(size)]\n",
    "    part.smin = smin\n",
    "    part.smax = smax\n",
    "    return part"
   ]
  },
  {
   "cell_type": "code",
   "execution_count": 7,
   "id": "cb2092dd",
   "metadata": {
    "lines_to_next_cell": 1
   },
   "outputs": [],
   "source": [
    "# Función para actualizar la velocidad y posición de una partícula.\n",
    "def updateParticle(part, best, phi1, phi2):\n",
    "    # Componente cognitivo (hacia la mejor posición personal)\n",
    "    u1 = (random.uniform(0, phi1) for _ in range(len(part)))\n",
    "    v_u1 = map(operator.mul, u1, map(operator.sub, part.best, part))\n",
    "    # Componente social (hacia la mejor posición global)\n",
    "    u2 = (random.uniform(0, phi2) for _ in range(len(part)))\n",
    "    v_u2 = map(operator.mul, u2, map(operator.sub, best, part))\n",
    "    # Actualizar velocidad y aplicar límites\n",
    "    part.speed = list(map(operator.add, part.speed, map(operator.add, v_u1, v_u2)))\n",
    "    for i, speed in enumerate(part.speed):\n",
    "        if abs(speed) < part.smin:\n",
    "            part.speed[i] = math.copysign(part.smin, speed)\n",
    "        elif abs(speed) > part.smax:\n",
    "            part.speed[i] = math.copysign(part.smax, speed)\n",
    "    # Actualizar posición\n",
    "    part[:] = list(map(operator.add, part, part.speed))"
   ]
  },
  {
   "cell_type": "markdown",
   "id": "403d4775",
   "metadata": {},
   "source": [
    "### **3. Creación de la `Toolbox`**\n",
    "Se registran las funciones y operadores en la `Toolbox` para su uso en el algoritmo."
   ]
  },
  {
   "cell_type": "code",
   "execution_count": 8,
   "id": "be44e92e",
   "metadata": {},
   "outputs": [],
   "source": [
    "# Crear la caja de herramientas (Toolbox)\n",
    "toolbox = base.Toolbox()\n",
    "\n",
    "# Registrar la función para generar partículas.\n",
    "# size=1 (solo la variable r), pmin/pmax (límites de posición), smin/smax (límites de velocidad).\n",
    "# pmax se establece en 3.0, un valor razonable por encima del límite teórico (~2.33).\n",
    "toolbox.register(\"particle\", generate, size=1, pmin=0, pmax=3.0, smin=-0.5, smax=0.5)\n",
    "\n",
    "# Registrar la función para generar la población.\n",
    "toolbox.register(\"population\", tools.initRepeat, list, toolbox.particle)\n",
    "\n",
    "# Registrar la función para actualizar las partículas.\n",
    "toolbox.register(\"update\", updateParticle, phi1=2.0, phi2=2.0)\n",
    "\n",
    "# Registrar la función de evaluación con penalización para soluciones no factibles.\n",
    "toolbox.register(\"evaluate\", objective_function)\n",
    "toolbox.decorate(\"evaluate\", tools.DeltaPenalty(feasible, -100000)) # Penalización alta si no es factible"
   ]
  },
  {
   "cell_type": "markdown",
   "id": "e8e7985e",
   "metadata": {},
   "source": [
    "### **4. Definición de Parámetros y Estadísticas**\n",
    "Se configuran los parámetros del algoritmo y el registro de estadísticas."
   ]
  },
  {
   "cell_type": "code",
   "execution_count": 9,
   "id": "8f2b1a8a",
   "metadata": {},
   "outputs": [],
   "source": [
    "# Parámetros del algoritmo PSO\n",
    "initial_population = 100    # Número de partículas\n",
    "num_ite = 100               # Número de iteraciones\n",
    "best = None                 # Mejor partícula global"
   ]
  },
  {
   "cell_type": "code",
   "execution_count": 10,
   "id": "d5145646",
   "metadata": {},
   "outputs": [],
   "source": [
    "# Creación de la población inicial\n",
    "pop = toolbox.population(n=initial_population)"
   ]
  },
  {
   "cell_type": "code",
   "execution_count": 11,
   "id": "31e3f8b5",
   "metadata": {},
   "outputs": [],
   "source": [
    "# Configuración de las estadísticas a monitorear\n",
    "stats = tools.Statistics(lambda ind: ind.fitness.values)\n",
    "stats.register(\"avg\", numpy.mean)\n",
    "stats.register(\"std\", numpy.std)\n",
    "stats.register(\"min\", numpy.min)\n",
    "stats.register(\"max\", numpy.max)"
   ]
  },
  {
   "cell_type": "code",
   "execution_count": 12,
   "id": "34a5b880",
   "metadata": {},
   "outputs": [],
   "source": [
    "# Configuración del Logbook para guardar el historial\n",
    "logbook = tools.Logbook()\n",
    "logbook.header = [\"gen\", \"evals\"] + stats.fields"
   ]
  },
  {
   "cell_type": "markdown",
   "id": "b3e41445",
   "metadata": {},
   "source": [
    "## **Ejecución del Algoritmo PSO**\n",
    "Se ejecuta el bucle principal de optimización."
   ]
  },
  {
   "cell_type": "code",
   "execution_count": 13,
   "id": "84201b4f",
   "metadata": {},
   "outputs": [
    {
     "name": "stdout",
     "output_type": "stream",
     "text": [
      "gen\tevals\tavg     \tstd    \tmin    \tmax    \n",
      "0  \t100  \t-23994.4\t42711.5\t-100000\t10.0816\n",
      "1  \t100  \t-10992  \t31291.8\t-100000\t10.0808\n",
      "2  \t100  \t-2990.57\t17060.4\t-100000\t10.0814\n",
      "3  \t100  \t-1990.5 \t14001.4\t-100000\t10.0817\n",
      "4  \t100  \t-990.424\t9950.84\t-100000\t10.0818\n",
      "5  \t100  \t-2990.59\t17060.4\t-100000\t10.081 \n",
      "6  \t100  \t9.72226 \t0.325387\t8.88927\t10.0818\n",
      "7  \t100  \t-990.32 \t9950.85 \t-100000\t10.0817\n",
      "8  \t100  \t-990.345\t9950.84 \t-100000\t10.0818\n",
      "9  \t100  \t-1990.46\t14001.4 \t-100000\t10.0818\n",
      "10 \t100  \t9.77477 \t0.316502\t8.74694\t10.0818\n",
      "11 \t100  \t9.72481 \t0.411423\t7.62109\t10.0818\n",
      "12 \t100  \t9.84772 \t0.28719 \t9.1268 \t10.0818\n",
      "13 \t100  \t9.71123 \t0.34265 \t9.05434\t10.0818\n",
      "14 \t100  \t-1990.33\t14001.4 \t-100000\t10.0817\n",
      "15 \t100  \t-990.36 \t9950.84 \t-100000\t10.0818\n",
      "16 \t100  \t-990.27 \t9950.85 \t-100000\t10.0818\n",
      "17 \t100  \t-990.354\t9950.84 \t-100000\t10.0818\n",
      "18 \t100  \t9.76989 \t0.370298\t8.58318\t10.0818\n",
      "19 \t100  \t9.7975  \t0.31068 \t8.77056\t10.0818\n",
      "20 \t100  \t9.82616 \t0.304141\t8.85622\t10.0818\n",
      "21 \t100  \t-990.335\t9950.85 \t-100000\t10.0818\n",
      "22 \t100  \t9.79515 \t0.340848\t8.18597\t10.0818\n",
      "23 \t100  \t-1990.44\t14001.4 \t-100000\t10.0815\n",
      "24 \t100  \t-990.302\t9950.85 \t-100000\t10.0818\n",
      "25 \t100  \t-990.356\t9950.84 \t-100000\t10.0818\n",
      "26 \t100  \t-990.271\t9950.85 \t-100000\t10.0818\n",
      "27 \t100  \t9.76073 \t0.339635\t8.47237\t10.0818\n",
      "28 \t100  \t-990.314\t9950.85 \t-100000\t10.0818\n",
      "29 \t100  \t-1990.4 \t14001.4 \t-100000\t10.0818\n",
      "30 \t100  \t-990.356\t9950.84 \t-100000\t10.0818\n",
      "31 \t100  \t-990.335\t9950.85 \t-100000\t10.0818\n",
      "32 \t100  \t-990.307\t9950.85 \t-100000\t10.0814\n",
      "33 \t100  \t9.77211 \t0.321389\t8.71398\t10.0818\n",
      "34 \t100  \t9.8484  \t0.280341\t8.83004\t10.0818\n",
      "35 \t100  \t-990.327\t9950.85 \t-100000\t10.0818\n",
      "36 \t100  \t9.84563 \t0.315795\t8.3264 \t10.0818\n",
      "37 \t100  \t9.77273 \t0.312252\t8.87706\t10.0818\n",
      "38 \t100  \t-990.308\t9950.85 \t-100000\t10.0818\n",
      "39 \t100  \t9.84485 \t0.296432\t8.9835 \t10.0818\n",
      "40 \t100  \t-990.315\t9950.85 \t-100000\t10.0818\n",
      "41 \t100  \t-990.218\t9950.86 \t-100000\t10.0818\n",
      "42 \t100  \t-990.34 \t9950.85 \t-100000\t10.0818\n",
      "43 \t100  \t-990.261\t9950.85 \t-100000\t10.0818\n",
      "44 \t100  \t9.81207 \t0.280589\t9.16234\t10.0817\n",
      "45 \t100  \t-990.265\t9950.85 \t-100000\t10.0818\n",
      "46 \t100  \t9.84043 \t0.288065\t8.65971\t10.0818\n",
      "47 \t100  \t9.81719 \t0.278568\t9.10924\t10.0818\n",
      "48 \t100  \t-990.257\t9950.85 \t-100000\t10.0817\n",
      "49 \t100  \t-990.262\t9950.85 \t-100000\t10.0818\n",
      "50 \t100  \t-990.277\t9950.85 \t-100000\t10.0817\n",
      "51 \t100  \t-990.273\t9950.85 \t-100000\t10.0817\n",
      "52 \t100  \t-990.274\t9950.85 \t-100000\t10.0815\n",
      "53 \t100  \t9.82302 \t0.262917\t9.11432\t10.0817\n",
      "54 \t100  \t9.80629 \t0.321166\t8.46915\t10.0818\n",
      "55 \t100  \t9.80954 \t0.337627\t8.4085 \t10.0817\n",
      "56 \t100  \t9.84417 \t0.254946\t9.07044\t10.0818\n",
      "57 \t100  \t9.78871 \t0.332388\t8.5376 \t10.0818\n",
      "58 \t100  \t-990.245\t9950.85 \t-100000\t10.0818\n",
      "59 \t100  \t9.78746 \t0.364034\t7.73787\t10.0817\n",
      "60 \t100  \t9.80225 \t0.314321\t8.50255\t10.0818\n",
      "61 \t100  \t-990.269\t9950.85 \t-100000\t10.0818\n",
      "62 \t100  \t-990.311\t9950.85 \t-100000\t10.0818\n",
      "63 \t100  \t9.78466 \t0.361236\t8.39405\t10.0818\n",
      "64 \t100  \t-990.316\t9950.85 \t-100000\t10.0818\n",
      "65 \t100  \t9.78659 \t0.321476\t8.39696\t10.0817\n",
      "66 \t100  \t9.81543 \t0.305605\t8.57327\t10.0818\n",
      "67 \t100  \t9.76921 \t0.320741\t8.92733\t10.0818\n",
      "68 \t100  \t-990.281\t9950.85 \t-100000\t10.0818\n",
      "69 \t100  \t9.76613 \t0.315085\t9.10981\t10.0818\n",
      "70 \t100  \t9.75254 \t0.377448\t8.49262\t10.0818\n",
      "71 \t100  \t-1990.42\t14001.4 \t-100000\t10.0818\n",
      "72 \t100  \t-990.268\t9950.85 \t-100000\t10.0818\n",
      "73 \t100  \t9.78006 \t0.309276\t8.75289\t10.0818\n",
      "74 \t100  \t9.84833 \t0.282721\t8.68343\t10.0818\n",
      "75 \t100  \t9.78169 \t0.329964\t8.30158\t10.0818\n",
      "76 \t100  \t9.8567  \t0.293895\t8.25686\t10.0818\n",
      "77 \t100  \t9.83055 \t0.26982 \t8.92989\t10.0818\n",
      "78 \t100  \t9.78478 \t0.369617\t7.85503\t10.0818\n",
      "79 \t100  \t9.86365 \t0.255986\t9.0013 \t10.0818\n",
      "80 \t100  \t9.7958  \t0.301703\t8.69165\t10.0818\n",
      "81 \t100  \t-990.208\t9950.86 \t-100000\t10.0818\n",
      "82 \t100  \t9.76509 \t0.336441\t8.71787\t10.0818\n",
      "83 \t100  \t-1990.35\t14001.4 \t-100000\t10.0818\n",
      "84 \t100  \t9.82551 \t0.291313\t8.31943\t10.0817\n",
      "85 \t100  \t9.83661 \t0.255608\t9.09795\t10.0818\n",
      "86 \t100  \t9.83565 \t0.289876\t8.8594 \t10.0817\n",
      "87 \t100  \t9.82082 \t0.304869\t8.60004\t10.0816\n",
      "88 \t100  \t9.80536 \t0.388157\t7.51042\t10.0816\n",
      "89 \t100  \t-990.252\t9950.85 \t-100000\t10.0817\n",
      "90 \t100  \t-990.249\t9950.85 \t-100000\t10.0818\n",
      "91 \t100  \t9.84071 \t0.303916\t8.32199\t10.0817\n",
      "92 \t100  \t9.82216 \t0.324916\t8.56092\t10.0818\n",
      "93 \t100  \t-990.298\t9950.85 \t-100000\t10.0818\n",
      "94 \t100  \t-990.255\t9950.85 \t-100000\t10.0817\n",
      "95 \t100  \t9.84347 \t0.311423\t8.56463\t10.0818\n",
      "96 \t100  \t-990.296\t9950.85 \t-100000\t10.0817\n",
      "97 \t100  \t-990.21 \t9950.86 \t-100000\t10.0818\n",
      "98 \t100  \t-990.3  \t9950.85 \t-100000\t10.0818\n",
      "99 \t100  \t9.84597 \t0.292235\t8.64059\t10.0818\n"
     ]
    }
   ],
   "source": [
    "# Bucle principal de la optimización PSO\n",
    "for iteration in range(num_ite):\n",
    "    for part in pop:\n",
    "        # Evaluar fitness\n",
    "        part.fitness.values = toolbox.evaluate(part)\n",
    "        # Actualizar mejor posición personal (pbest)\n",
    "        if not part.best or part.best.fitness < part.fitness:\n",
    "            part.best = creator.Particle(part)\n",
    "            part.best.fitness.values = part.fitness.values\n",
    "        # Actualizar mejor posición global (gbest)\n",
    "        if not best or best.fitness < part.fitness:\n",
    "            best = creator.Particle(part)\n",
    "            best.fitness.values = part.fitness.values\n",
    "    # Actualizar velocidad y posición de todas las partículas\n",
    "    for part in pop:\n",
    "        toolbox.update(part, best)\n",
    "\n",
    "    # Guardar y mostrar las estadísticas de la iteración\n",
    "    logbook.record(gen=iteration, evals=len(pop), **stats.compile(pop))\n",
    "    print(logbook.stream)"
   ]
  },
  {
   "cell_type": "markdown",
   "id": "3684769d",
   "metadata": {},
   "source": [
    "## **Resultados Finales**\n",
    "Se muestran las dimensiones y el área máxima de la ventana encontrados por el algoritmo."
   ]
  },
  {
   "cell_type": "code",
   "execution_count": 14,
   "id": "ed615054",
   "metadata": {
    "lines_to_next_cell": 2
   },
   "outputs": [
    {
     "name": "stdout",
     "output_type": "stream",
     "text": [
      "Radio del semicírculo (r): 1.6803 m\n",
      "Altura de la parte rectangular (h): 1.6804 m\n",
      "Ancho total de la ventana (2r): 3.3605 m\n"
     ]
    }
   ],
   "source": [
    "# Imprimir la mejor solución encontrada\n",
    "r_optimo = best[0]\n",
    "h_optima = 6 - r_optimo - (math.pi / 2) * r_optimo\n",
    "\n",
    "print(f\"Radio del semicírculo (r): {r_optimo:.4f} m\")\n",
    "print(f\"Altura de la parte rectangular (h): {h_optima:.4f} m\")\n",
    "print(f\"Ancho total de la ventana (2r): {2*r_optimo:.4f} m\")"
   ]
  },
  {
   "cell_type": "code",
   "execution_count": 15,
   "id": "f8e9559c",
   "metadata": {},
   "outputs": [
    {
     "name": "stdout",
     "output_type": "stream",
     "text": [
      "Área Máxima: 10.0818 m²\n",
      "Material del marco utilizado: 12.0000 m\n"
     ]
    }
   ],
   "source": [
    "# Evaluar la mejor solución\n",
    "max_area = objective_function(best)[0]\n",
    "perimetro_usado = 2 * r_optimo + 2 * h_optima + math.pi * r_optimo\n",
    "\n",
    "print(f\"Área Máxima: {max_area:.4f} m²\")\n",
    "print(f\"Material del marco utilizado: {perimetro_usado:.4f} m\")"
   ]
  },
  {
   "cell_type": "code",
   "execution_count": 16,
   "id": "3e714a3d",
   "metadata": {},
   "outputs": [
    {
     "name": "stdout",
     "output_type": "stream",
     "text": [
      "Cumple restricciones: True\n"
     ]
    }
   ],
   "source": [
    "# Verificar si la solución es factible\n",
    "print(f\"Cumple restricciones: {feasible(best)}\")"
   ]
  }
 ],
 "metadata": {
  "jupytext": {
   "cell_metadata_filter": "-all",
   "main_language": "python",
   "notebook_metadata_filter": "-all"
  },
  "kernelspec": {
   "display_name": "MADSI",
   "language": "python",
   "name": "python3"
  },
  "language_info": {
   "codemirror_mode": {
    "name": "ipython",
    "version": 3
   },
   "file_extension": ".py",
   "mimetype": "text/x-python",
   "name": "python",
   "nbconvert_exporter": "python",
   "pygments_lexer": "ipython3",
   "version": "3.11.11"
  }
 },
 "nbformat": 4,
 "nbformat_minor": 5
}
